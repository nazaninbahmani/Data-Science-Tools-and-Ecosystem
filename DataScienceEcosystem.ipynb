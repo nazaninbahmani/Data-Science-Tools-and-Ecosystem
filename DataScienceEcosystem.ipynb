{
 "cells": [
  {
   "cell_type": "markdown",
   "id": "cf8da892-e17c-45e5-9538-d0bb5aea0cbe",
   "metadata": {},
   "source": [
    "# Data Science Tools and Ecosystem"
   ]
  },
  {
   "cell_type": "markdown",
   "id": "bfa2e3e4-9c30-4257-88dd-9d83bc52570e",
   "metadata": {},
   "source": [
    "In this notebook, Data Science Tools and Ecosystem are summarized. "
   ]
  },
  {
   "cell_type": "markdown",
   "id": "44d9e2bc-4a1f-4303-84e0-16f1ada3c29c",
   "metadata": {},
   "source": [
    "**Objectives:** "
   ]
  },
  {
   "cell_type": "markdown",
   "id": "fc2cfd8f-6ae0-46fe-9ada-09709fb91ed9",
   "metadata": {},
   "source": [
    "Here is a list of popular languages for Data Science:\n",
    "\n",
    "* Python\n",
    "* Julia \n",
    "* C/C++\n",
    "* SQL\n",
    "* Matlab"
   ]
  },
  {
   "cell_type": "markdown",
   "id": "26681b4c-cfaa-4956-b08c-5084395313aa",
   "metadata": {},
   "source": [
    "Some of the popular languages that Data Scientists use are:\n",
    "\n",
    "1. Python\n",
    "2. R\n",
    "3. SQL\n",
    "\n"
   ]
  },
  {
   "cell_type": "markdown",
   "id": "535bd0eb-ecbc-468a-9a83-e295940a2427",
   "metadata": {},
   "source": [
    "Some of the commonly used libraries used by Data Scientists include: \n",
    "\n",
    "1. Pandas\n",
    "2. PyTorch \n",
    "3. SciPy "
   ]
  },
  {
   "cell_type": "markdown",
   "id": "154044d3-e943-41b6-a1a6-c89e703d9ca1",
   "metadata": {},
   "source": [
    "Here are three development environment open source tools used in data science:"
   ]
  },
  {
   "cell_type": "markdown",
   "id": "01683b43-edb2-46aa-ac79-a6ea92e14ad1",
   "metadata": {},
   "source": [
    "| Data Science Tools | \n",
    "| ------ | \n",
    "| Jupyter Notebooks | \n",
    "| R Studio's | \n",
    "| Git | \n"
   ]
  },
  {
   "cell_type": "markdown",
   "id": "eddf15fe-711c-4589-8676-508989abddb1",
   "metadata": {},
   "source": [
    "### Below are a few examples of evaluating arithmetic expressions in Python"
   ]
  },
  {
   "cell_type": "markdown",
   "id": "9f82ac76-f0d8-4ed3-ac1a-d431977ad683",
   "metadata": {},
   "source": [
    "This is a simple arithmetic expression to multiply then add integers "
   ]
  },
  {
   "cell_type": "code",
   "execution_count": 1,
   "id": "e9198ce0-3f99-4f37-b71e-0cb599b30c23",
   "metadata": {
    "tags": []
   },
   "outputs": [
    {
     "data": {
      "text/plain": [
       "17"
      ]
     },
     "execution_count": 1,
     "metadata": {},
     "output_type": "execute_result"
    }
   ],
   "source": [
    "(3*4)+5"
   ]
  },
  {
   "cell_type": "markdown",
   "id": "79faf73f-4d9d-4859-b534-74bc1b60aa72",
   "metadata": {},
   "source": [
    "This will convert 200 minutes to hours by diving [dividing] by 60"
   ]
  },
  {
   "cell_type": "code",
   "execution_count": 2,
   "id": "5976eb90-dfca-494b-9f07-f88ac2be92c4",
   "metadata": {
    "tags": []
   },
   "outputs": [
    {
     "data": {
      "text/plain": [
       "3.3333333333333335"
      ]
     },
     "execution_count": 2,
     "metadata": {},
     "output_type": "execute_result"
    }
   ],
   "source": [
    "200/60"
   ]
  },
  {
   "cell_type": "markdown",
   "id": "85e9dd45-2df0-4109-9f95-ab87ef690112",
   "metadata": {},
   "source": [
    "## Author"
   ]
  },
  {
   "cell_type": "markdown",
   "id": "6dd22fdc-0682-470f-ae69-4ec9fb5c2ff9",
   "metadata": {},
   "source": [
    "Name: Nazanin Bahmani"
   ]
  },
  {
   "cell_type": "code",
   "execution_count": null,
   "id": "38c71c47-8192-451f-a3c5-97b8bf520efc",
   "metadata": {},
   "outputs": [],
   "source": []
  }
 ],
 "metadata": {
  "kernelspec": {
   "display_name": "Python",
   "language": "python",
   "name": "conda-env-python-py"
  },
  "language_info": {
   "codemirror_mode": {
    "name": "ipython",
    "version": 3
   },
   "file_extension": ".py",
   "mimetype": "text/x-python",
   "name": "python",
   "nbconvert_exporter": "python",
   "pygments_lexer": "ipython3",
   "version": "3.7.12"
  }
 },
 "nbformat": 4,
 "nbformat_minor": 5
}
